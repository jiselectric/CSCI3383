{
 "cells": [
  {
   "cell_type": "markdown",
   "metadata": {},
   "source": [
    "# Homework 1 (80 points)"
   ]
  },
  {
   "cell_type": "markdown",
   "metadata": {},
   "source": [
    "In this homework, you will first implement both insertion sort and merge sort and study their runtime behavior experimentally. \n",
    "Then, you will solve a classic algorithmic problem, tagged as medium difficulty on leetcode.\n",
    "\n",
    "The objectives for this homework are:\n",
    "\n",
    "* Understand that runtime is a function of input size\n",
    "* Understand that runtime is not just a function if input size\n",
    "* Understand the concept of best and worst case input\n",
    "* Understand that the runtime can be roughly described as a polynomial and that it reflects the number of nested loops\n",
    "* Understand how to experimentally study and compare algorithms\n",
    "* Understand that different algorithms solving the same problem can have widely different runtime\n",
    "* Understand that sorting is one of the most powerful algorithm design tool\n",
    "* Practice your programming skills!\n",
    "* Solve a non-trivial and popular algorithmic problem"
   ]
  },
  {
   "cell_type": "markdown",
   "metadata": {},
   "source": [
    "We will use the array from the standard library. The only function you will need is 'array.array' which creates an array. For example, 'array.array('i',[1,2,3])' returns an array of integers created from the list [1,2,3]. These arrays are typed (that's what the 'i' is for) and can allow you to write faster, tighter code."
   ]
  },
  {
   "cell_type": "code",
   "execution_count": 38,
   "metadata": {},
   "outputs": [],
   "source": [
    "import array"
   ]
  },
  {
   "cell_type": "markdown",
   "metadata": {},
   "source": [
    "To do our experimental work, you will measure the runtime of functions using the 'time.time' function. This function takes no arguments and returns the time in seconds that have passed since January 1, 1970, 00:00:00 (UTC)."
   ]
  },
  {
   "cell_type": "code",
   "execution_count": 39,
   "metadata": {},
   "outputs": [],
   "source": [
    "import time"
   ]
  },
  {
   "cell_type": "markdown",
   "metadata": {},
   "source": [
    "To create our experiments, you will use the 'random.randint' function. A call to 'random.randint(a,b)' returns a random integer between a and b, inclusive."
   ]
  },
  {
   "cell_type": "code",
   "execution_count": 40,
   "metadata": {},
   "outputs": [],
   "source": [
    "import random"
   ]
  },
  {
   "cell_type": "markdown",
   "metadata": {},
   "source": [
    "The matplotlib.pyplot is a very popular library to make plots. The key function is 'plt.plot' which takes at least the x coordinates and y coordinates of the data you want to plot. To make your plot look nice, you should also consider using functions such as 'plt.legend', 'plt.xlabel', 'plt.ylabel', 'plt.title', and give your plots a color and a label. "
   ]
  },
  {
   "cell_type": "code",
   "execution_count": 41,
   "metadata": {},
   "outputs": [],
   "source": [
    "import matplotlib.pyplot as plt"
   ]
  },
  {
   "cell_type": "markdown",
   "metadata": {},
   "source": [
    "## Part 1 (20 points)"
   ]
  },
  {
   "cell_type": "markdown",
   "metadata": {},
   "source": [
    "We will start our journey as an experimental computer scientist by implement insertion sort and comparing its runtime behavior on different kind of inputs."
   ]
  },
  {
   "cell_type": "markdown",
   "metadata": {},
   "source": [
    "**Problem 1 (5 points): implement insertion sort, as presented in class. Note that your function need not return anything, the array will be modified in place. Do not implement the algorithm resursively.**"
   ]
  },
  {
   "cell_type": "code",
   "execution_count": 42,
   "metadata": {},
   "outputs": [],
   "source": [
    "def insertionSort(arr):\n",
    "    assert(isinstance(arr,array.array))\n",
    "    \n",
    "    for i in range(1, len(arr)): \n",
    "        key = arr[i] \n",
    "        j = i-1\n",
    "        while (j >= 0 and key < arr[j]): \n",
    "                arr[j + 1] = arr[j] \n",
    "                j -= 1\n",
    "        arr[j + 1] = key   \n",
    "        \n",
    "    return arr"
   ]
  },
  {
   "cell_type": "markdown",
   "metadata": {},
   "source": [
    "**Problem 2 (5 points): implement a timer. The timer takes two arguments: a function 'f' to be timed, and an array 'arr'. The timer should execute 'f(arr)' and measure how long it runs, in seconds. The timer should return this timing.** "
   ]
  },
  {
   "cell_type": "code",
   "execution_count": 43,
   "metadata": {},
   "outputs": [],
   "source": [
    "def timer(f, arr):\n",
    "    assert(callable(f))\n",
    "    assert(isinstance(arr, array.array))\n",
    "    \n",
    "    start = time.time()\n",
    "    f(arr)\n",
    "    end = time.time()\n",
    "    \n",
    "    return end - start"
   ]
  },
  {
   "cell_type": "markdown",
   "metadata": {},
   "source": [
    "The following two functions will generate an array of size n where the values are, respectively, in increasing and decreasing order."
   ]
  },
  {
   "cell_type": "code",
   "execution_count": 44,
   "metadata": {},
   "outputs": [],
   "source": [
    "def gen_increasing(n):\n",
    "    return array.array('i',range(1,n))"
   ]
  },
  {
   "cell_type": "code",
   "execution_count": 45,
   "metadata": {},
   "outputs": [],
   "source": [
    "def gen_decreasing(n):\n",
    "    return array.array('i',range(n,1,-1))"
   ]
  },
  {
   "cell_type": "markdown",
   "metadata": {},
   "source": [
    "**Problem 3  (5 points): implement a random generator of arrays of integers. The generator takes one argument: an integer 'n' for the size of the array. Every call to the generator should return a different, randomly generated, array of integers.**"
   ]
  },
  {
   "cell_type": "code",
   "execution_count": 46,
   "metadata": {},
   "outputs": [],
   "source": [
    "def gen_random(n):\n",
    "    assert(isinstance(n, int))\n",
    "    assert(n >= 0)\n",
    "    \n",
    "    arr = array.array('i', [random.randint(1, 100) for _ in range(n)])\n",
    "    \n",
    "    return arr"
   ]
  },
  {
   "cell_type": "markdown",
   "metadata": {},
   "source": [
    "**Problem 4  (5 points): implement a function that runs a sequence of experiments and plot the result of these experiments. It takes two arguments: 'f' is the function to be experimented with, and 'n' is an integer representing the largest array size to experiment on. For all array sizes from 0 to n, you should generate three arrays: increasing, decreasing, and a random one. You should  time the application of f to these three arrays. Finally, you should plot the results of this experiment.**"
   ]
  },
  {
   "cell_type": "code",
   "execution_count": 47,
   "metadata": {},
   "outputs": [],
   "source": [
    "def compareInputs(f, n):\n",
    "    assert(callable(f))\n",
    "    assert(isinstance(n, int))\n",
    "    assert(n >= 0)\n",
    "    \n",
    "    inc_timing = array.array('f', n * [0])\n",
    "    dec_timing = array.array('f', n * [0])\n",
    "    ran_timing = array.array('f', n * [0])\n",
    "    \n",
    "    for i in range(n):\n",
    "        expIn = gen_increasing(i)\n",
    "        expDe = gen_decreasing(i)\n",
    "        expRa = gen_random(i)\n",
    "        \n",
    "        inc_timing[i] = timer(f, expIn)\n",
    "        dec_timing[i] = timer(f, expDe)\n",
    "        ran_timing[i] = timer(f, expRa)\n",
    "        \n",
    "    x = list(range(n))\n",
    "    \n",
    "    plt.title(\"Comparison of Insertion Sort On Different Inputs\")\n",
    "    plt.xlabel(\"Problem Size\")\n",
    "    plt.ylabel(\"Time(s)\")\n",
    "    \n",
    "    plt.plot(x, inc_timing, \"-b\", label='increasing')\n",
    "    plt.plot(x, dec_timing, \"-r\", label='decreasing')\n",
    "    plt.plot(x, ran_timing, \"-g\", label='random')\n",
    "    plt.legend(loc=\"upper left\")"
   ]
  },
  {
   "cell_type": "markdown",
   "metadata": {},
   "source": [
    "We're now ready to run our first experiments and study how different inputs affect the runtime. Executing the following cell should produce a plot with 3 curves. "
   ]
  },
  {
   "cell_type": "code",
   "execution_count": 48,
   "metadata": {},
   "outputs": [
    {
     "data": {
      "image/png": "[encoded data removed]",
      "text/plain": [
       "<Figure size 432x288 with 1 Axes>"
      ]
     },
     "metadata": {
      "needs_background": "light"
     },
     "output_type": "display_data"
    }
   ],
   "source": [
    "compareInputs(insertionSort,500)"
   ]
  },
  {
   "cell_type": "markdown",
   "metadata": {},
   "source": [
    "This is an important lesson. For a give input size n, the runtime can depend on the 'shape' if the input. For insertion sort in particular, it seems like the algorithm is super fast in some cases, while it is very slow on others. That raises a question: when we want to compare algorithms, should we compare them based on how good they can be on some inputs, or on how bad things can get? In general, it is more useful to understand the runtime behavior for the worst possible case. It's not always perfect, but it is often the simplest and most effective way to analyze an algorithm. This is what is called worst-case analysis. Note that it's not always trivial to understand what the worst case is."
   ]
  },
  {
   "cell_type": "markdown",
   "metadata": {},
   "source": [
    "## Part 2 (20 points)"
   ]
  },
  {
   "cell_type": "markdown",
   "metadata": {},
   "source": [
    "We're now ready to implement the famous mergesort algorithm. We will then run some experiments to compare our two sorting algorithms, insertion sort and merge sort."
   ]
  },
  {
   "cell_type": "markdown",
   "metadata": {},
   "source": [
    "**Problem 5  (5 points): implement the merge algorithm, as described in class. merge takes 4 arguments: an array of integers 'arr', and integers 'l', 'm', 'r' representing respectively a left, middle, and right index. merge sorts the array in place and does not return anything.**   "
   ]
  },
  {
   "cell_type": "code",
   "execution_count": 49,
   "metadata": {},
   "outputs": [],
   "source": [
    "def merge(arr, l, m, r): \n",
    "    assert(isinstance(arr,array.array))\n",
    "    assert(isinstance(l,int))\n",
    "    assert(isinstance(m,int))\n",
    "    assert(isinstance(r,int))\n",
    "    assert(l >= 0)\n",
    "    assert(m >= l)\n",
    "    assert(r >= m)\n",
    "    \n",
    "    if(arr[m] > arr[m+1]):\n",
    "        left = arr[l:m+1]\n",
    "        right = arr[m+1:r+1]\n",
    "        \n",
    "        i = j = 0 \n",
    "        k = l\n",
    "        \n",
    "        lenL  = m + 1 - l\n",
    "        lenR = r - m\n",
    "\n",
    "        while i < lenL and j < lenR:\n",
    "            if left[i] <= right[j]:\n",
    "                arr[k] = left[i]\n",
    "                i = i + 1\n",
    "            else:\n",
    "                arr[k] = right[j]\n",
    "                j = j + 1\n",
    "            k = k + 1\n",
    "\n",
    "        while(i < lenL):\n",
    "            arr[k] = left[i]\n",
    "            i = i + 1\n",
    "            k = k + 1"
   ]
  },
  {
   "cell_type": "markdown",
   "metadata": {},
   "source": [
    "**Problem 6  (5 points): implement the mergesort algorithm with extra parameters for indices into the array. mergesort takes 3 arguments: an array of integers 'arr', and integers 'l', 'r' representing respectively a left, middle, and right index. merge sorts the array in place and does not return anything.**"
   ]
  },
  {
   "cell_type": "code",
   "execution_count": 50,
   "metadata": {},
   "outputs": [],
   "source": [
    "def mergeSortAux(arr,l,r):\n",
    "    assert(isinstance(arr,array.array))\n",
    "    assert(isinstance(l,int))\n",
    "    assert(isinstance(r,int))\n",
    "    assert(l >= 0)\n",
    "    assert(r >= l)\n",
    "    assert(len(arr) >= 2)\n",
    "    \n",
    "    if (l < r):\n",
    "\n",
    "        m = (l+r)//2\n",
    "        \n",
    "        mergeSortAux(arr, l, m)\n",
    "        mergeSortAux(arr, m+1, r)\n",
    "        \n",
    "        merge(arr, l, m, r)"
   ]
  },
  {
   "cell_type": "markdown",
   "metadata": {},
   "source": [
    "**Problem 7 (5 points): implement the mergesort algorithm. It takes an array 'arr', sorts in place and doesn't return anything.**"
   ]
  },
  {
   "cell_type": "code",
   "execution_count": 51,
   "metadata": {},
   "outputs": [],
   "source": [
    "def mergeSort(arr):\n",
    "    assert(isinstance(arr,array.array))\n",
    "    if len(arr) > 1:\n",
    "        mergeSortAux(arr, 0, len(arr) - 1)\n",
    "    else:\n",
    "        return arr\n",
    "    \n",
    "    return arr"
   ]
  },
  {
   "cell_type": "markdown",
   "metadata": {},
   "source": [
    "**Problem 8  (5 points): implement a function that runs a sequence of experiments and plot the result of these experiments. It takes three arguments: 'f1' and 'f2' are the functions to be compared, and 'n' is an integer representing the largest array size to experiment on. Since we have established that it is the worst case, for all array sizes from 0 to n, you should generate one arrays: decreasing. You should  time the application of f to these three arrays. Finally, you should plot the results of this experiment.** "
   ]
  },
  {
   "cell_type": "code",
   "execution_count": 52,
   "metadata": {},
   "outputs": [],
   "source": [
    "def compareTwoFunctions(f1,f2,n):\n",
    "    assert(callable(f1))\n",
    "    assert(callable(f2))\n",
    "    assert(isinstance(n, int))\n",
    "    assert(n >= 0)\n",
    "\n",
    "    f1_timing = array.array('f', n * [0])\n",
    "    f2_timing = array.array('f', n * [0])\n",
    "        \n",
    "    for i in range(n):\n",
    "        decreasing1 = gen_decreasing(i)\n",
    "        decreasing2 = gen_decreasing(i)\n",
    "\n",
    "        f1_timing[i] = timer(f1, decreasing1)\n",
    "        f2_timing[i] = timer(f2, decreasing2)\n",
    "    \n",
    "    x = list(range(n))\n",
    "    \n",
    "    plt.title('Comparison of Different Functions')\n",
    "    plt.xlabel('Problem Size')\n",
    "    plt.ylabel('Time(s)')\n",
    "    \n",
    "    plt.plot(x, f1_timing, \"-b\", label='insertionSort')\n",
    "    plt.plot(x, f2_timing, \"-r\", label='mergeSort')\n",
    "    plt.legend(loc='upper left')"
   ]
  },
  {
   "cell_type": "markdown",
   "metadata": {},
   "source": [
    "We're now ready to run our second experiments and compare our two sorting algorithms. Executing the following cell should produce a plot with 2 curves."
   ]
  },
  {
   "cell_type": "code",
   "execution_count": 53,
   "metadata": {},
   "outputs": [
    {
     "data": {
      "image/png": "[encoded data removed]",
      "text/plain": [
       "<Figure size 432x288 with 1 Axes>"
      ]
     },
     "metadata": {
      "needs_background": "light"
     },
     "output_type": "display_data"
    }
   ],
   "source": [
    "compareTwoFunctions(insertionSort,mergeSort,500)"
   ]
  },
  {
   "cell_type": "markdown",
   "metadata": {},
   "source": [
    "This should just confirm what you have now know for years: different algorithms have very different runtime behaviors. The purpose of analysis of algorithms is to predict what these runtime curve are by analysing the code. It is in this sense that analysis of algorithms is 'theoretical': we try to analyze the behavior of an algorithm from first-principles, without running it. Perhaps surprisingly, until the sixties, computer scientists did not believe that it was possible to analyze the runtime of an algorithm in theory. You probably associate the word 'theory' with abstract non-sense, but in this case, it really just means using a little bit of math to learn something without running experiments. "
   ]
  },
  {
   "cell_type": "markdown",
   "metadata": {},
   "source": [
    "# Part 3 (40 points)"
   ]
  },
  {
   "cell_type": "markdown",
   "metadata": {},
   "source": [
    "The following problem is a classic. In fact, I was given this problem a few years ago at an on-site interview for Facebook. The problem is defined as follows:\n",
    "\n",
    "Input: array of integers\n",
    "Output: count of how many triples sum to 0"
   ]
  },
  {
   "cell_type": "markdown",
   "metadata": {},
   "source": [
    "It is usually a great idea to start simple and think about a naive solution to the problem. You should be able to do this by yourself, and you may want to take a few minutes to thing about it. However, I am providing you with an implementation of the naive solution. "
   ]
  },
  {
   "cell_type": "code",
   "execution_count": 59,
   "metadata": {},
   "outputs": [],
   "source": [
    "def count3(arr): \n",
    "    assert(isinstance(arr,array.array))\n",
    "    n = len(arr)\n",
    "    count = 0\n",
    "    \n",
    "    for i in range(0, n-2): \n",
    "        for j in range(i + 1, n-1):  \n",
    "            for k in range(j + 1, n): \n",
    "                if arr[i] + arr[j] + arr[k] == 0: \n",
    "                    count +=1\n",
    "      \n",
    "    return count"
   ]
  },
  {
   "cell_type": "markdown",
   "metadata": {},
   "source": [
    "**Problem 9 (40 points): design and implement an improved version of the naive algorithm. It is not good enough to tweak the code to make it run slitghtly faster. You need to use what you have learned so far about the design of algorithms to come up with an algorithm whose runtime will be a curve with a makedly different shape that the naive one.**"
   ]
  },
  {
   "cell_type": "code",
   "execution_count": 58,
   "metadata": {},
   "outputs": [],
   "source": [
    "def count3Opt(arr):\n",
    "    assert(isinstance(arr,array.array))\n",
    "    n = len(arr)\n",
    "    count = 0 \n",
    "    \n",
    "    for i in range(n-1):\n",
    "        s = dict()\n",
    "        \n",
    "        for j in range(i + 1, n):\n",
    "            x = -(arr[i] + arr[j])\n",
    "            \n",
    "            if x in s:\n",
    "                count += s[x]\n",
    "            \n",
    "            s[arr[j]] = s.get(arr[j],0)+1\n",
    "    \n",
    "\n",
    "    return count"
   ]
  },
  {
   "cell_type": "code",
   "execution_count": 60,
   "metadata": {},
   "outputs": [
    {
     "ename": "UnboundLocalError",
     "evalue": "local variable 's' referenced before assignment",
     "output_type": "error",
     "traceback": [
      "\u001b[0;31m---------------------------------------------------------------------------\u001b[0m",
      "\u001b[0;31mUnboundLocalError\u001b[0m                         Traceback (most recent call last)",
      "\u001b[0;32m<ipython-input-60-ce3635ed9c9e>\u001b[0m in \u001b[0;36m<module>\u001b[0;34m\u001b[0m\n\u001b[0;32m----> 1\u001b[0;31m \u001b[0mcompareTwoFunctions\u001b[0m\u001b[0;34m(\u001b[0m\u001b[0mcount3\u001b[0m\u001b[0;34m,\u001b[0m\u001b[0mcount3Opt\u001b[0m\u001b[0;34m,\u001b[0m\u001b[0;36m200\u001b[0m\u001b[0;34m)\u001b[0m\u001b[0;34m\u001b[0m\u001b[0;34m\u001b[0m\u001b[0m\n\u001b[0m",
      "\u001b[0;32m<ipython-input-52-033c8674a9ba>\u001b[0m in \u001b[0;36mcompareTwoFunctions\u001b[0;34m(f1, f2, n)\u001b[0m\n\u001b[1;32m     13\u001b[0m \u001b[0;34m\u001b[0m\u001b[0m\n\u001b[1;32m     14\u001b[0m         \u001b[0mf1_timing\u001b[0m\u001b[0;34m[\u001b[0m\u001b[0mi\u001b[0m\u001b[0;34m]\u001b[0m \u001b[0;34m=\u001b[0m \u001b[0mtimer\u001b[0m\u001b[0;34m(\u001b[0m\u001b[0mf1\u001b[0m\u001b[0;34m,\u001b[0m \u001b[0mdecreasing1\u001b[0m\u001b[0;34m)\u001b[0m\u001b[0;34m\u001b[0m\u001b[0;34m\u001b[0m\u001b[0m\n\u001b[0;32m---> 15\u001b[0;31m         \u001b[0mf2_timing\u001b[0m\u001b[0;34m[\u001b[0m\u001b[0mi\u001b[0m\u001b[0;34m]\u001b[0m \u001b[0;34m=\u001b[0m \u001b[0mtimer\u001b[0m\u001b[0;34m(\u001b[0m\u001b[0mf2\u001b[0m\u001b[0;34m,\u001b[0m \u001b[0mdecreasing2\u001b[0m\u001b[0;34m)\u001b[0m\u001b[0;34m\u001b[0m\u001b[0;34m\u001b[0m\u001b[0m\n\u001b[0m\u001b[1;32m     16\u001b[0m \u001b[0;34m\u001b[0m\u001b[0m\n\u001b[1;32m     17\u001b[0m     \u001b[0mx\u001b[0m \u001b[0;34m=\u001b[0m \u001b[0mlist\u001b[0m\u001b[0;34m(\u001b[0m\u001b[0mrange\u001b[0m\u001b[0;34m(\u001b[0m\u001b[0mn\u001b[0m\u001b[0;34m)\u001b[0m\u001b[0;34m)\u001b[0m\u001b[0;34m\u001b[0m\u001b[0;34m\u001b[0m\u001b[0m\n",
      "\u001b[0;32m<ipython-input-43-80061928b584>\u001b[0m in \u001b[0;36mtimer\u001b[0;34m(f, arr)\u001b[0m\n\u001b[1;32m      4\u001b[0m \u001b[0;34m\u001b[0m\u001b[0m\n\u001b[1;32m      5\u001b[0m     \u001b[0mstart\u001b[0m \u001b[0;34m=\u001b[0m \u001b[0mtime\u001b[0m\u001b[0;34m.\u001b[0m\u001b[0mtime\u001b[0m\u001b[0;34m(\u001b[0m\u001b[0;34m)\u001b[0m\u001b[0;34m\u001b[0m\u001b[0;34m\u001b[0m\u001b[0m\n\u001b[0;32m----> 6\u001b[0;31m     \u001b[0mf\u001b[0m\u001b[0;34m(\u001b[0m\u001b[0marr\u001b[0m\u001b[0;34m)\u001b[0m\u001b[0;34m\u001b[0m\u001b[0;34m\u001b[0m\u001b[0m\n\u001b[0m\u001b[1;32m      7\u001b[0m     \u001b[0mend\u001b[0m \u001b[0;34m=\u001b[0m \u001b[0mtime\u001b[0m\u001b[0;34m.\u001b[0m\u001b[0mtime\u001b[0m\u001b[0;34m(\u001b[0m\u001b[0;34m)\u001b[0m\u001b[0;34m\u001b[0m\u001b[0;34m\u001b[0m\u001b[0m\n\u001b[1;32m      8\u001b[0m \u001b[0;34m\u001b[0m\u001b[0m\n",
      "\u001b[0;32m<ipython-input-58-ae13cce7f73d>\u001b[0m in \u001b[0;36mcount3Opt\u001b[0;34m(arr)\u001b[0m\n\u001b[1;32m     15\u001b[0m             \u001b[0ms\u001b[0m\u001b[0;34m[\u001b[0m\u001b[0marr\u001b[0m\u001b[0;34m[\u001b[0m\u001b[0mj\u001b[0m\u001b[0;34m]\u001b[0m\u001b[0;34m]\u001b[0m \u001b[0;34m=\u001b[0m \u001b[0ms\u001b[0m\u001b[0;34m.\u001b[0m\u001b[0mget\u001b[0m\u001b[0;34m(\u001b[0m\u001b[0marr\u001b[0m\u001b[0;34m[\u001b[0m\u001b[0mj\u001b[0m\u001b[0;34m]\u001b[0m\u001b[0;34m,\u001b[0m\u001b[0;36m0\u001b[0m\u001b[0;34m)\u001b[0m\u001b[0;34m+\u001b[0m\u001b[0;36m1\u001b[0m\u001b[0;34m\u001b[0m\u001b[0;34m\u001b[0m\u001b[0m\n\u001b[1;32m     16\u001b[0m \u001b[0;34m\u001b[0m\u001b[0m\n\u001b[0;32m---> 17\u001b[0;31m     \u001b[0mprint\u001b[0m\u001b[0;34m(\u001b[0m\u001b[0ms\u001b[0m\u001b[0;34m)\u001b[0m\u001b[0;34m\u001b[0m\u001b[0;34m\u001b[0m\u001b[0m\n\u001b[0m\u001b[1;32m     18\u001b[0m     \u001b[0;32mreturn\u001b[0m \u001b[0mcount\u001b[0m\u001b[0;34m\u001b[0m\u001b[0;34m\u001b[0m\u001b[0m\n",
      "\u001b[0;31mUnboundLocalError\u001b[0m: local variable 's' referenced before assignment"
     ]
    }
   ],
   "source": [
    "compareTwoFunctions(count3,count3Opt,200)"
   ]
  },
  {
   "cell_type": "markdown",
   "metadata": {},
   "source": [
    "The following cell will run some experiments to compare the algorithms."
   ]
  },
  {
   "cell_type": "code",
   "execution_count": 57,
   "metadata": {},
   "outputs": [
    {
     "ename": "UnboundLocalError",
     "evalue": "local variable 's' referenced before assignment",
     "output_type": "error",
     "traceback": [
      "\u001b[0;31m---------------------------------------------------------------------------\u001b[0m",
      "\u001b[0;31mUnboundLocalError\u001b[0m                         Traceback (most recent call last)",
      "\u001b[0;32m<ipython-input-57-ce3635ed9c9e>\u001b[0m in \u001b[0;36m<module>\u001b[0;34m\u001b[0m\n\u001b[0;32m----> 1\u001b[0;31m \u001b[0mcompareTwoFunctions\u001b[0m\u001b[0;34m(\u001b[0m\u001b[0mcount3\u001b[0m\u001b[0;34m,\u001b[0m\u001b[0mcount3Opt\u001b[0m\u001b[0;34m,\u001b[0m\u001b[0;36m200\u001b[0m\u001b[0;34m)\u001b[0m\u001b[0;34m\u001b[0m\u001b[0;34m\u001b[0m\u001b[0m\n\u001b[0m",
      "\u001b[0;32m<ipython-input-52-033c8674a9ba>\u001b[0m in \u001b[0;36mcompareTwoFunctions\u001b[0;34m(f1, f2, n)\u001b[0m\n\u001b[1;32m     13\u001b[0m \u001b[0;34m\u001b[0m\u001b[0m\n\u001b[1;32m     14\u001b[0m         \u001b[0mf1_timing\u001b[0m\u001b[0;34m[\u001b[0m\u001b[0mi\u001b[0m\u001b[0;34m]\u001b[0m \u001b[0;34m=\u001b[0m \u001b[0mtimer\u001b[0m\u001b[0;34m(\u001b[0m\u001b[0mf1\u001b[0m\u001b[0;34m,\u001b[0m \u001b[0mdecreasing1\u001b[0m\u001b[0;34m)\u001b[0m\u001b[0;34m\u001b[0m\u001b[0;34m\u001b[0m\u001b[0m\n\u001b[0;32m---> 15\u001b[0;31m         \u001b[0mf2_timing\u001b[0m\u001b[0;34m[\u001b[0m\u001b[0mi\u001b[0m\u001b[0;34m]\u001b[0m \u001b[0;34m=\u001b[0m \u001b[0mtimer\u001b[0m\u001b[0;34m(\u001b[0m\u001b[0mf2\u001b[0m\u001b[0;34m,\u001b[0m \u001b[0mdecreasing2\u001b[0m\u001b[0;34m)\u001b[0m\u001b[0;34m\u001b[0m\u001b[0;34m\u001b[0m\u001b[0m\n\u001b[0m\u001b[1;32m     16\u001b[0m \u001b[0;34m\u001b[0m\u001b[0m\n\u001b[1;32m     17\u001b[0m     \u001b[0mx\u001b[0m \u001b[0;34m=\u001b[0m \u001b[0mlist\u001b[0m\u001b[0;34m(\u001b[0m\u001b[0mrange\u001b[0m\u001b[0;34m(\u001b[0m\u001b[0mn\u001b[0m\u001b[0;34m)\u001b[0m\u001b[0;34m)\u001b[0m\u001b[0;34m\u001b[0m\u001b[0;34m\u001b[0m\u001b[0m\n",
      "\u001b[0;32m<ipython-input-43-80061928b584>\u001b[0m in \u001b[0;36mtimer\u001b[0;34m(f, arr)\u001b[0m\n\u001b[1;32m      4\u001b[0m \u001b[0;34m\u001b[0m\u001b[0m\n\u001b[1;32m      5\u001b[0m     \u001b[0mstart\u001b[0m \u001b[0;34m=\u001b[0m \u001b[0mtime\u001b[0m\u001b[0;34m.\u001b[0m\u001b[0mtime\u001b[0m\u001b[0;34m(\u001b[0m\u001b[0;34m)\u001b[0m\u001b[0;34m\u001b[0m\u001b[0;34m\u001b[0m\u001b[0m\n\u001b[0;32m----> 6\u001b[0;31m     \u001b[0mf\u001b[0m\u001b[0;34m(\u001b[0m\u001b[0marr\u001b[0m\u001b[0;34m)\u001b[0m\u001b[0;34m\u001b[0m\u001b[0;34m\u001b[0m\u001b[0m\n\u001b[0m\u001b[1;32m      7\u001b[0m     \u001b[0mend\u001b[0m \u001b[0;34m=\u001b[0m \u001b[0mtime\u001b[0m\u001b[0;34m.\u001b[0m\u001b[0mtime\u001b[0m\u001b[0;34m(\u001b[0m\u001b[0;34m)\u001b[0m\u001b[0;34m\u001b[0m\u001b[0;34m\u001b[0m\u001b[0m\n\u001b[1;32m      8\u001b[0m \u001b[0;34m\u001b[0m\u001b[0m\n",
      "\u001b[0;32m<ipython-input-56-ae13cce7f73d>\u001b[0m in \u001b[0;36mcount3Opt\u001b[0;34m(arr)\u001b[0m\n\u001b[1;32m     15\u001b[0m             \u001b[0ms\u001b[0m\u001b[0;34m[\u001b[0m\u001b[0marr\u001b[0m\u001b[0;34m[\u001b[0m\u001b[0mj\u001b[0m\u001b[0;34m]\u001b[0m\u001b[0;34m]\u001b[0m \u001b[0;34m=\u001b[0m \u001b[0ms\u001b[0m\u001b[0;34m.\u001b[0m\u001b[0mget\u001b[0m\u001b[0;34m(\u001b[0m\u001b[0marr\u001b[0m\u001b[0;34m[\u001b[0m\u001b[0mj\u001b[0m\u001b[0;34m]\u001b[0m\u001b[0;34m,\u001b[0m\u001b[0;36m0\u001b[0m\u001b[0;34m)\u001b[0m\u001b[0;34m+\u001b[0m\u001b[0;36m1\u001b[0m\u001b[0;34m\u001b[0m\u001b[0;34m\u001b[0m\u001b[0m\n\u001b[1;32m     16\u001b[0m \u001b[0;34m\u001b[0m\u001b[0m\n\u001b[0;32m---> 17\u001b[0;31m     \u001b[0mprint\u001b[0m\u001b[0;34m(\u001b[0m\u001b[0ms\u001b[0m\u001b[0;34m)\u001b[0m\u001b[0;34m\u001b[0m\u001b[0;34m\u001b[0m\u001b[0m\n\u001b[0m\u001b[1;32m     18\u001b[0m     \u001b[0;32mreturn\u001b[0m \u001b[0mcount\u001b[0m\u001b[0;34m\u001b[0m\u001b[0;34m\u001b[0m\u001b[0m\n",
      "\u001b[0;31mUnboundLocalError\u001b[0m: local variable 's' referenced before assignment"
     ]
    }
   ],
   "source": [
    "compareTwoFunctions(count3,count3Opt,200)"
   ]
  },
  {
   "cell_type": "markdown",
   "metadata": {},
   "source": [
    "That's it, you're done with homework 1, congratulations. "
   ]
  },
  {
   "cell_type": "code",
   "execution_count": null,
   "metadata": {},
   "outputs": [],
   "source": []
  },
  {
   "cell_type": "code",
   "execution_count": null,
   "metadata": {},
   "outputs": [],
   "source": []
  },
  {
   "cell_type": "code",
   "execution_count": null,
   "metadata": {},
   "outputs": [],
   "source": []
  },
  {
   "cell_type": "code",
   "execution_count": null,
   "metadata": {},
   "outputs": [],
   "source": []
  },
  {
   "cell_type": "code",
   "execution_count": null,
   "metadata": {},
   "outputs": [],
   "source": []
  },
  {
   "cell_type": "code",
   "execution_count": null,
   "metadata": {},
   "outputs": [],
   "source": []
  },
  {
   "cell_type": "code",
   "execution_count": null,
   "metadata": {},
   "outputs": [],
   "source": []
  },
  {
   "cell_type": "code",
   "execution_count": null,
   "metadata": {},
   "outputs": [],
   "source": []
  },
  {
   "cell_type": "code",
   "execution_count": null,
   "metadata": {},
   "outputs": [],
   "source": []
  },
  {
   "cell_type": "code",
   "execution_count": null,
   "metadata": {},
   "outputs": [],
   "source": []
  },
  {
   "cell_type": "code",
   "execution_count": null,
   "metadata": {},
   "outputs": [],
   "source": []
  }
 ],
 "metadata": {
  "kernelspec": {
   "display_name": "Python 3",
   "language": "python",
   "name": "python3"
  },
  "language_info": {
   "codemirror_mode": {
    "name": "ipython",
    "version": 3
   },
   "file_extension": ".py",
   "mimetype": "text/x-python",
   "name": "python",
   "nbconvert_exporter": "python",
   "pygments_lexer": "ipython3",
   "version": "3.7.4"
  }
 },
 "nbformat": 4,
 "nbformat_minor": 4
}
