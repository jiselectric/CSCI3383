{
 "cells": [
  {
   "cell_type": "markdown",
   "metadata": {},
   "source": [
    "# Homework 3 (80 points)"
   ]
  },
  {
   "cell_type": "markdown",
   "metadata": {},
   "source": [
    "In this homework, you will learn about hash tables and continue to practice your algorithmic solving skills.\n",
    "\n",
    "The objectives for this homework are:\n",
    "\n",
    "* Understabd hashing\n",
    "* Understand hash tables with linear chaining\n",
    "* Practice solving an algorithmic problem using a data structure\n",
    "* Practice solving with an algorithmic problem with little guidance"
   ]
  },
  {
   "cell_type": "code",
   "execution_count": 1,
   "metadata": {},
   "outputs": [],
   "source": [
    "import array\n",
    "import random\n",
    "import time\n",
    "import tracemalloc\n",
    "import matplotlib.pyplot as plt\n",
    "import string\n",
    "from scipy.stats import poisson"
   ]
  },
  {
   "cell_type": "markdown",
   "metadata": {},
   "source": [
    "We will use the following function that generates random strings."
   ]
  },
  {
   "cell_type": "code",
   "execution_count": 2,
   "metadata": {},
   "outputs": [],
   "source": [
    "def genRandomString():\n",
    "    size = poisson.rvs(10, size=1)[0]\n",
    "    return ''.join(random.choice(string.ascii_letters) for i in range(size))"
   ]
  },
  {
   "cell_type": "markdown",
   "metadata": {},
   "source": [
    "Note that the length of strings varies from call to call."
   ]
  },
  {
   "cell_type": "code",
   "execution_count": 33,
   "metadata": {},
   "outputs": [
    {
     "data": {
      "text/plain": [
       "'sBdlCpGESpVbo'"
      ]
     },
     "execution_count": 33,
     "metadata": {},
     "output_type": "execute_result"
    }
   ],
   "source": [
    "genRandomString()"
   ]
  },
  {
   "cell_type": "code",
   "execution_count": 34,
   "metadata": {},
   "outputs": [
    {
     "data": {
      "text/plain": [
       "'lEOFXRgJ'"
      ]
     },
     "execution_count": 34,
     "metadata": {},
     "output_type": "execute_result"
    }
   ],
   "source": [
    "genRandomString()"
   ]
  },
  {
   "cell_type": "code",
   "execution_count": 35,
   "metadata": {},
   "outputs": [
    {
     "data": {
      "text/plain": [
       "'tZlGtgoonP'"
      ]
     },
     "execution_count": 35,
     "metadata": {},
     "output_type": "execute_result"
    }
   ],
   "source": [
    "genRandomString()"
   ]
  },
  {
   "cell_type": "code",
   "execution_count": 3,
   "metadata": {},
   "outputs": [],
   "source": [
    "def timer(tracker,key):\n",
    "    start = time.time()\n",
    "    tracker.put(key)\n",
    "    end = time.time()    \n",
    "    return end - start"
   ]
  },
  {
   "cell_type": "code",
   "execution_count": 4,
   "metadata": {},
   "outputs": [],
   "source": [
    "def compareTrackers(trackers,n):\n",
    "    assert(len(trackers) >= 1)\n",
    "    time = []\n",
    "    \n",
    "    for i in range(len(trackers)):\n",
    "        time.append(array.array('f',n * [0]))\n",
    "    for i in range(n):\n",
    "        s = genRandomString()\n",
    "        for j in range(len(trackers)):\n",
    "            time[j][i] = timer(trackers[j],s)\n",
    "        \n",
    "    x = range(n)\n",
    "    \n",
    "    plt.xlabel('Problem size')\n",
    "    plt.ylabel('Time (s)')\n",
    "    for j in range(len(trackers)):\n",
    "        plt.scatter(x, time[j], label=type(trackers[j]).__name__, s=1)\n",
    "    plt.title(\"Comparison of different functions\") \n",
    "    plt.legend(loc=\"upper left\")"
   ]
  },
  {
   "cell_type": "code",
   "execution_count": 5,
   "metadata": {},
   "outputs": [],
   "source": [
    "class MethodImplementationMissing(Exception):\n",
    "    \n",
    "    def __init__(self, message):\n",
    "        self.message = message"
   ]
  },
  {
   "cell_type": "markdown",
   "metadata": {},
   "source": [
    "## Part 1 (20 points)"
   ]
  },
  {
   "cell_type": "markdown",
   "metadata": {},
   "source": [
    "Your goal in this part of the homework is to implement a datatype called Tracker that you can use to keep track of how many times a string appears in a list. For example, if we were given a list such as ['a','b','a'] we want to know that 'a' appears twice and 'b' appears once. A tracker has two methods, put and get. The put method allows you to use the tracker to record the occurance of string, while the get method returns the count for some string. Here is the abstract data type."
   ]
  },
  {
   "cell_type": "code",
   "execution_count": 36,
   "metadata": {},
   "outputs": [],
   "source": [
    "class Tracker:\n",
    "    \n",
    "    def put(self,key):\n",
    "        raise MethodImplementationMissing('put')\n",
    "    \n",
    "    def get(self,key):\n",
    "        raise MethodImplementationMissing('get')"
   ]
  },
  {
   "cell_type": "markdown",
   "metadata": {},
   "source": [
    "One possible way to implement Tracker is to use a list of all the strings that we put in the tracker. A slightly better, yet still naive, implementation would record what strings have been put in the tracker so far, and record the number of occurences. Here is a possible implementation."
   ]
  },
  {
   "cell_type": "code",
   "execution_count": 37,
   "metadata": {},
   "outputs": [],
   "source": [
    "class naiveImplementation(Tracker):\n",
    "    \n",
    "    def __init__(self):\n",
    "        self.keys = []\n",
    "        self.counts = []\n",
    "        \n",
    "    def get(self,key):\n",
    "        try:\n",
    "            index = self.keys.index(key)\n",
    "            return self.counts[index]\n",
    "        except ValueError:\n",
    "            return 0\n",
    "        \n",
    "    def put(self,key):\n",
    "        try:\n",
    "            index = self.keys.index(key)\n",
    "            value = self.counts[index] + 1\n",
    "            self.counts.insert(index,value)\n",
    "        except ValueError:\n",
    "            self.keys.append(key)\n",
    "            self.counts.append(1)\n",
    "            \n",
    "    def print(self):\n",
    "        print(self.counts)\n",
    "        print(self.keys)"
   ]
  },
  {
   "cell_type": "markdown",
   "metadata": {},
   "source": [
    "We can declare a new tracker."
   ]
  },
  {
   "cell_type": "code",
   "execution_count": 45,
   "metadata": {},
   "outputs": [],
   "source": [
    "naive_tracker = naiveImplementation()"
   ]
  },
  {
   "cell_type": "markdown",
   "metadata": {},
   "source": [
    "And try it out on our example."
   ]
  },
  {
   "cell_type": "code",
   "execution_count": 46,
   "metadata": {},
   "outputs": [],
   "source": [
    "l = ['a','b','a']\n",
    "for key in l:\n",
    "    naive_tracker.put(key)"
   ]
  },
  {
   "cell_type": "code",
   "execution_count": 50,
   "metadata": {},
   "outputs": [
    {
     "name": "stdout",
     "output_type": "stream",
     "text": [
      "a: 2\n",
      "b: 1\n",
      "c: 0\n"
     ]
    }
   ],
   "source": [
    "print('a:', naive_tracker.get('a'))\n",
    "print('b:',naive_tracker.get('b'))\n",
    "print('c:',naive_tracker.get('c'))"
   ]
  },
  {
   "cell_type": "markdown",
   "metadata": {},
   "source": [
    "We can use the compareTrackers definition to see how long a put takes as the number of elements in the tracker increases."
   ]
  },
  {
   "cell_type": "code",
   "execution_count": 51,
   "metadata": {},
   "outputs": [
    {
     "data": {
      "image/png": "[encoded data removed]",
      "text/plain": [
       "<Figure size 432x288 with 1 Axes>"
      ]
     },
     "metadata": {
      "needs_background": "light"
     },
     "output_type": "display_data"
    }
   ],
   "source": [
    "compareTrackers([naive_tracker],1000)"
   ]
  },
  {
   "cell_type": "markdown",
   "metadata": {},
   "source": [
    "We are going to use a hash table with linear chaining to implement a slightly better tracker. To that end, we need to be bale to hash strings. This can be done very easily using python's hash function."
   ]
  },
  {
   "cell_type": "code",
   "execution_count": 10,
   "metadata": {},
   "outputs": [],
   "source": [
    "example = 'hello, world!'"
   ]
  },
  {
   "cell_type": "code",
   "execution_count": 11,
   "metadata": {},
   "outputs": [
    {
     "name": "stdout",
     "output_type": "stream",
     "text": [
      "8072055050985534680\n"
     ]
    }
   ],
   "source": [
    "print(hash(example))"
   ]
  },
  {
   "cell_type": "markdown",
   "metadata": {},
   "source": [
    "In practice, we want to set the size of our hash table to a chosen fixed size, so the numbers returned by hash are too large. "
   ]
  },
  {
   "cell_type": "markdown",
   "metadata": {},
   "source": [
    "**Problem (1 point)** Implement a my_hash function that hashes a string and ensures that the returned hash is less than size."
   ]
  },
  {
   "cell_type": "code",
   "execution_count": 52,
   "metadata": {},
   "outputs": [],
   "source": [
    "def my_hash(string,size):\n",
    "    return hash(string) % size "
   ]
  },
  {
   "cell_type": "markdown",
   "metadata": {},
   "source": [
    "**Problem (19 points)** Use a hash table with linear chaining to implement the Tracker data type."
   ]
  },
  {
   "cell_type": "code",
   "execution_count": 55,
   "metadata": {},
   "outputs": [],
   "source": [
    "class LinearChaining(Tracker):\n",
    "    \n",
    "    def __init__(self,size):\n",
    "        self.size = size\n",
    "        self.hashTable = size * [([],[])]\n",
    "    \n",
    "    def get(self,key):\n",
    "        hKey = my_hash(key,self.size)\n",
    "        try:\n",
    "            index = self.hashTable[hKey][0].index(key)\n",
    "            return self.hashTable[hKey][1][index]\n",
    "        except ValueError:\n",
    "            return 0\n",
    "        \n",
    "    def put(self,key):\n",
    "        hKey = my_hash(key,self.size)\n",
    "        try:\n",
    "            index = self.hashTable[hKey][0].index(key)\n",
    "            value = self.hashTable[hKey][1][index] + 1\n",
    "            self.hashTable[hKey][1].insert(index,value)\n",
    "        except ValueError:\n",
    "            self.hashTable[hKey][0].append(key)\n",
    "            self.hashTable[hKey][1].append(1)     "
   ]
  },
  {
   "cell_type": "markdown",
   "metadata": {},
   "source": [
    "We can compare its runtime behavior to that of the naive implementation."
   ]
  },
  {
   "cell_type": "code",
   "execution_count": 16,
   "metadata": {},
   "outputs": [],
   "source": [
    "tracker = LinearChaining(10000)"
   ]
  },
  {
   "cell_type": "code",
   "execution_count": 17,
   "metadata": {},
   "outputs": [
    {
     "data": {
      "image/png": "[encoded data removed]",
      "text/plain": [
       "<Figure size 432x288 with 1 Axes>"
      ]
     },
     "metadata": {
      "needs_background": "light"
     },
     "output_type": "display_data"
    }
   ],
   "source": [
    "compareTrackers([naive_tracker,tracker],10000)"
   ]
  },
  {
   "cell_type": "markdown",
   "metadata": {},
   "source": [
    "Note that even though this implementation is slightly better (and it would become more noticable for large sequences of strings), it is still not great because we need to keep track of the strings, which takes a lot of space. On top of this, comparing strings is expensive. "
   ]
  },
  {
   "cell_type": "markdown",
   "metadata": {},
   "source": [
    "**Bonus problem (10 points)** Implement a tracker that does not store the strings at all. Note that you are allowed to make a few and rare small errors where a string might be counted too many times."
   ]
  },
  {
   "cell_type": "markdown",
   "metadata": {},
   "source": [
    "## Part 2 (30 points)"
   ]
  },
  {
   "cell_type": "markdown",
   "metadata": {},
   "source": [
    "In this problem, your goal is to compute the number of inversions in an input array. For an array A of size n, we say the a pair of indices (i,j) into the array is an inversion if i < j and A[i] > A[j]. For example, consider the following array:"
   ]
  },
  {
   "cell_type": "code",
   "execution_count": 18,
   "metadata": {},
   "outputs": [],
   "source": [
    "arr = array.array('i',[2,3,8,6,1])"
   ]
  },
  {
   "cell_type": "markdown",
   "metadata": {},
   "source": [
    "This array has 5 inversion: (8,6), (8,1), (2,1), (3,1), and (6,1). A simple solution is to consider every possible pair of indices."
   ]
  },
  {
   "cell_type": "code",
   "execution_count": 19,
   "metadata": {},
   "outputs": [],
   "source": [
    "def naiveCountInversion(arr):\n",
    "    n = len(arr)\n",
    "    count = 0\n",
    "    for i in range(n):\n",
    "        for j in range(i,n):\n",
    "            if arr[i] > arr[j]:\n",
    "                count += 1\n",
    "    return count"
   ]
  },
  {
   "cell_type": "code",
   "execution_count": 20,
   "metadata": {},
   "outputs": [
    {
     "data": {
      "text/plain": [
       "5"
      ]
     },
     "execution_count": 20,
     "metadata": {},
     "output_type": "execute_result"
    }
   ],
   "source": [
    "naiveCountInversion(arr)"
   ]
  },
  {
   "cell_type": "markdown",
   "metadata": {},
   "source": [
    "However, this is a naive solution in O(n * n). "
   ]
  },
  {
   "cell_type": "markdown",
   "metadata": {},
   "source": [
    "**Problem:** Devise and implement an algorithm that solves the inversion problem in O(n log n)."
   ]
  },
  {
   "cell_type": "code",
   "execution_count": 21,
   "metadata": {},
   "outputs": [],
   "source": [
    "def countMerge(arr, l, m, r): \n",
    "    assert(isinstance(arr,array.array))\n",
    "    assert(isinstance(l,int))\n",
    "    assert(isinstance(m,int))\n",
    "    assert(isinstance(r,int))\n",
    "    assert(l >= 0)\n",
    "    assert(m >= l)\n",
    "    assert(r >= m)\n",
    "    n1 = m - l + 1\n",
    "    n2 = r- m \n",
    "  \n",
    "    L = [0] * (n1) \n",
    "    R = [0] * (n2) \n",
    "  \n",
    "    for i in range(0 , n1): \n",
    "        L[i] = arr[l + i] \n",
    "  \n",
    "    for j in range(0 , n2): \n",
    "        R[j] = arr[m + 1 + j] \n",
    "  \n",
    "    i = 0     \n",
    "    j = 0      \n",
    "    k = l     \n",
    "  \n",
    "    count = 0\n",
    "\n",
    "    while i < n1 and j < n2 : \n",
    "        if L[i] <= R[j]: \n",
    "            arr[k] = L[i] \n",
    "            i += 1\n",
    "        else: \n",
    "            count += n1 - i\n",
    "            arr[k] = R[j] \n",
    "            j += 1\n",
    "        k += 1\n",
    "  \n",
    "    while i < n1: \n",
    "        arr[k] = L[i] \n",
    "        i += 1\n",
    "        k += 1\n",
    "  \n",
    "    while j < n2: \n",
    "        arr[k] = R[j] \n",
    "        j += 1\n",
    "        k += 1\n",
    "    \n",
    "    return count"
   ]
  },
  {
   "cell_type": "code",
   "execution_count": 22,
   "metadata": {},
   "outputs": [],
   "source": [
    "def countInversionsAux(arr,l,r):\n",
    "    assert(isinstance(arr,array.array))\n",
    "    assert(isinstance(l,int))\n",
    "    assert(isinstance(r,int))\n",
    "    assert(l >= 0)\n",
    "    assert(r >= l)\n",
    "    assert(len(arr) >= 2)\n",
    "    if l < r: \n",
    "        m = (l+(r-1))//2\n",
    "        count_left = countInversionsAux(arr, l, m) \n",
    "        count_right = countInversionsAux(arr, m+1, r) \n",
    "        count_merge = countMerge(arr, l, m, r) \n",
    "        return count_left + count_merge + count_right\n",
    "    return 0"
   ]
  },
  {
   "cell_type": "code",
   "execution_count": 23,
   "metadata": {},
   "outputs": [],
   "source": [
    "def countInversions(arr):\n",
    "    assert(isinstance(arr,array.array))\n",
    "    if (len(arr) >= 2):\n",
    "        count = countInversionsAux(arr,0,len(arr)-1)\n",
    "        return count\n",
    "    return 0"
   ]
  },
  {
   "cell_type": "code",
   "execution_count": 24,
   "metadata": {},
   "outputs": [
    {
     "data": {
      "text/plain": [
       "5"
      ]
     },
     "execution_count": 24,
     "metadata": {},
     "output_type": "execute_result"
    }
   ],
   "source": [
    "countInversions(arr)"
   ]
  },
  {
   "cell_type": "markdown",
   "metadata": {},
   "source": [
    "## Part 3 (30 points)"
   ]
  },
  {
   "cell_type": "markdown",
   "metadata": {},
   "source": [
    "In this problem, your goal is to merge a list of K arrays of integers that are already sorted. For example, consider the following three arrays:"
   ]
  },
  {
   "cell_type": "code",
   "execution_count": 25,
   "metadata": {},
   "outputs": [],
   "source": [
    "arr1 = array.array('i',[1,3,7,11])\n",
    "arr2 = array.array('i',[2,4,13])\n",
    "arr3 = array.array('i',[5,6,8])"
   ]
  },
  {
   "cell_type": "markdown",
   "metadata": {},
   "source": [
    "A possible input with k=3 would the the following list:"
   ]
  },
  {
   "cell_type": "code",
   "execution_count": 26,
   "metadata": {},
   "outputs": [],
   "source": [
    "input = [arr1,arr2,arr3]"
   ]
  },
  {
   "cell_type": "markdown",
   "metadata": {},
   "source": [
    "You need to devise and implement an algorithm that will return a single sorted array containing all the values from all 3 arrays. In this example, the ouput would be:"
   ]
  },
  {
   "cell_type": "code",
   "execution_count": 27,
   "metadata": {},
   "outputs": [],
   "source": [
    "output = array.array('i', [1, 2, 3, 4, 5, 6, 7, 8, 11, 13])"
   ]
  },
  {
   "cell_type": "markdown",
   "metadata": {},
   "source": [
    "Of course, a simple solution would be to combine all these arrays into one and sort it. This could look like:"
   ]
  },
  {
   "cell_type": "code",
   "execution_count": 28,
   "metadata": {},
   "outputs": [],
   "source": [
    "def naiveMultimerge(arrs):\n",
    "    n = sum(map(len,arrs))\n",
    "    result = array.array('i', bytearray(4*n))\n",
    "    idx = 0\n",
    "    for arr in arrs:\n",
    "        for v in arr:\n",
    "            result[idx] = v\n",
    "            idx += 1\n",
    "    return sorted(result)"
   ]
  },
  {
   "cell_type": "code",
   "execution_count": 29,
   "metadata": {},
   "outputs": [
    {
     "data": {
      "text/plain": [
       "[1, 2, 3, 4, 5, 6, 7, 8, 11, 13]"
      ]
     },
     "execution_count": 29,
     "metadata": {},
     "output_type": "execute_result"
    }
   ],
   "source": [
    "naiveMultimerge(input)"
   ]
  },
  {
   "cell_type": "markdown",
   "metadata": {},
   "source": [
    "If n is the sum of the length of all the arrays in the input list, this solution is in O(n log n). I want you to do better. You could think of an nice divide and conquer solution, but instead I want you to practice solving algorithmic problems with the help of a data structure. You should devise an algorithm that works in O(n log k) where k is the number of arrays in the input list. You should start by defining and implementing your data type, and you are allowed to copy, paste, and *modify* implementations from previous homework or class. "
   ]
  },
  {
   "cell_type": "markdown",
   "metadata": {},
   "source": [
    "**Problem:** Devise and implement an algorithm that solves the multimerge problem in O(n log k)."
   ]
  },
  {
   "cell_type": "code",
   "execution_count": 30,
   "metadata": {},
   "outputs": [],
   "source": [
    "class MinHeap:\n",
    "    \n",
    "    def __init__(self):\n",
    "        self.heap_list = [0]\n",
    "        self.id = [0]\n",
    "        self.current_size = 0\n",
    " \n",
    "    def swim(self, i):\n",
    "        while i // 2 > 0:\n",
    "            if self.heap_list[i] < self.heap_list[i // 2]:\n",
    "                self.heap_list[i], self.heap_list[i // 2] = self.heap_list[i // 2], self.heap_list[i]\n",
    "                self.id[i], self.id[i // 2] = self.id[i // 2], self.id[i]\n",
    "            i = i // 2\n",
    " \n",
    "    def insert(self, k, id):\n",
    "        self.heap_list.append(k)\n",
    "        self.id.append(id)\n",
    "        self.current_size += 1\n",
    "        self.swim(self.current_size)\n",
    "\n",
    "    def min_child(self, i):\n",
    "        if (i * 2)+1 > self.current_size:\n",
    "            return i * 2\n",
    "        else:\n",
    "            if self.heap_list[i*2] < self.heap_list[(i*2)+1]:\n",
    "                return i * 2\n",
    "            else:\n",
    "                return (i * 2) + 1        \n",
    "        \n",
    "    def sink(self, i):\n",
    "        while (i * 2) <= self.current_size:\n",
    "            mc = self.min_child(i)\n",
    "            if self.heap_list[i] > self.heap_list[mc]:\n",
    "                self.heap_list[i], self.heap_list[mc] = self.heap_list[mc], self.heap_list[i]\n",
    "                self.id[i], self.id[mc] = self.id[mc], self.id[i]\n",
    "            i = mc\n",
    " \n",
    "    def delete_min(self):\n",
    "        if len(self.heap_list) == 1:\n",
    "            return None\n",
    "\n",
    "        root = self.heap_list[1]\n",
    "        root_id = self.id[1]\n",
    "        self.heap_list[1] = self.heap_list[self.current_size]\n",
    "        self.id[1] = self.id[self.current_size]\n",
    "        *self.heap_list, _ = self.heap_list\n",
    "        *self.id, _ = self.id\n",
    "        self.current_size -= 1\n",
    "        self.sink(1)\n",
    "        return (root, root_id)"
   ]
  },
  {
   "cell_type": "code",
   "execution_count": 31,
   "metadata": {},
   "outputs": [],
   "source": [
    "def multimerge(arrs):\n",
    "    k = len(arrs)\n",
    "    total_length = 0\n",
    "    for id in range(k):\n",
    "        total_length += len(arrs[id])\n",
    "        \n",
    "    result = array.array('i',[0] * total_length)\n",
    "    mh = MinHeap()\n",
    "    indices = array.array('i',[0] * k)\n",
    "    \n",
    "    for id in range(k):\n",
    "        mh.insert(arrs[id][indices[id]],id)\n",
    "        indices[id] += 1\n",
    "    \n",
    "    for i in range(total_length):\n",
    "        (v, id) = mh.delete_min()\n",
    "        result[i] = v\n",
    "        if (indices[id] < len(arrs[id])):\n",
    "            mh.insert(arrs[id][indices[id]],id)\n",
    "            indices[id] += 1\n",
    "            \n",
    "    return result"
   ]
  },
  {
   "cell_type": "code",
   "execution_count": 32,
   "metadata": {},
   "outputs": [
    {
     "data": {
      "text/plain": [
       "array('i', [1, 2, 3, 4, 5, 6, 7, 8, 11, 13])"
      ]
     },
     "execution_count": 32,
     "metadata": {},
     "output_type": "execute_result"
    }
   ],
   "source": [
    "multimerge([[1,3,7,11],[2,4,13],[5,6,8]])"
   ]
  }
 ],
 "metadata": {
  "kernelspec": {
   "display_name": "Python 3",
   "language": "python",
   "name": "python3"
  },
  "language_info": {
   "codemirror_mode": {
    "name": "ipython",
    "version": 3
   },
   "file_extension": ".py",
   "mimetype": "text/x-python",
   "name": "python",
   "nbconvert_exporter": "python",
   "pygments_lexer": "ipython3",
   "version": "3.9.1"
  }
 },
 "nbformat": 4,
 "nbformat_minor": 4
}
