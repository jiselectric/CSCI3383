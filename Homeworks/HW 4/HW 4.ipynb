{
 "cells": [
  {
   "cell_type": "markdown",
   "metadata": {},
   "source": [
    "# Homework 4 (80 points)"
   ]
  },
  {
   "cell_type": "markdown",
   "metadata": {},
   "source": [
    "In this homework, you will learn about:\n",
    "\n",
    "* Using memoization to speed up a recursive function with overlapping subproblems\n",
    "* Using tables (\"programming\") to speed up a recursive function with overlapping subproblems\n",
    "* Using dynamic programming to solve optimization problems"
   ]
  },
  {
   "cell_type": "code",
   "execution_count": 126,
   "metadata": {},
   "outputs": [],
   "source": [
    "import array\n",
    "import time\n",
    "import matplotlib.pyplot as plt\n",
    "import numpy as np\n",
    "from functools import reduce"
   ]
  },
  {
   "cell_type": "code",
   "execution_count": 127,
   "metadata": {},
   "outputs": [],
   "source": [
    "def timer(f,arr):\n",
    "    start = time.time()\n",
    "    f(arr)\n",
    "    end = time.time()\n",
    "    return end - start"
   ]
  },
  {
   "cell_type": "code",
   "execution_count": 128,
   "metadata": {},
   "outputs": [],
   "source": [
    "def compareTwoFunctions(f1,f2,n):\n",
    "    \n",
    "    time_f1 = array.array('f',n * [0])\n",
    "    time_f2 = array.array('f',n * [0])\n",
    "    for i in range(n):        \n",
    "        time_f1[i] = timer(f1,i)\n",
    "        time_f2[i] = timer(f2,i)\n",
    "        \n",
    "    x = range(n)\n",
    "    plt.xlabel('Problem size')\n",
    "    plt.ylabel('Time (s)')\n",
    "    plt.plot(x, time_f1, \"-b\", label=f1.__name__)\n",
    "    plt.plot(x, time_f2, \"-r\", label=f2.__name__)\n",
    "    plt.title(\"Comparison of different functions\") \n",
    "    plt.legend(loc=\"upper left\")"
   ]
  },
  {
   "cell_type": "markdown",
   "metadata": {},
   "source": [
    "# Part 1: 10 points"
   ]
  },
  {
   "cell_type": "markdown",
   "metadata": {},
   "source": [
    "Before we solve difficult problems, let's practice the fundamental techniques by speeding up the calculation of Catalan numbers. Catalan numbers are defined as follows:"
   ]
  },
  {
   "cell_type": "markdown",
   "metadata": {},
   "source": [
    "$$\n",
    "C(n) =     \n",
    "\\begin{cases}\n",
    "  1, & \\text{if}\\ n=0 \\\\\n",
    "  \\sum_{i=0}^{n-1} C(i) \\times C(n-i), & \\text{otherwise}\n",
    "\\end{cases}\n",
    "$$"
   ]
  },
  {
   "cell_type": "markdown",
   "metadata": {},
   "source": [
    "This definition can be transcribed into a simple (and naive) implementation. "
   ]
  },
  {
   "cell_type": "code",
   "execution_count": 129,
   "metadata": {},
   "outputs": [],
   "source": [
    "def catalan(n):\n",
    "    if n <= 1:\n",
    "        return 1\n",
    " \n",
    "    res = 0\n",
    "    for i in range(n):\n",
    "        res += catalan(i) * catalan(n-i-1)\n",
    " \n",
    "    return res"
   ]
  },
  {
   "cell_type": "code",
   "execution_count": 130,
   "metadata": {},
   "outputs": [
    {
     "data": {
      "text/plain": [
       "16796"
      ]
     },
     "execution_count": 130,
     "metadata": {},
     "output_type": "execute_result"
    }
   ],
   "source": [
    "catalan(10)"
   ]
  },
  {
   "cell_type": "markdown",
   "metadata": {},
   "source": [
    "You should convince yourself that this implementation is bad because it is going to recompute the same thing over and over again. You should also convince yourself that the complexity of this implementation is exponential in n, which is very bad."
   ]
  },
  {
   "cell_type": "markdown",
   "metadata": {},
   "source": [
    "**Problem 1 (5 points): use memoization to speed up the above implementation**"
   ]
  },
  {
   "cell_type": "code",
   "execution_count": 131,
   "metadata": {},
   "outputs": [],
   "source": [
    "memo = {}\n",
    "def catalan_mem(n):\n",
    "    if n == 0:\n",
    "        return 1\n",
    "    \n",
    "    v = 0 \n",
    "    if n not in memo:\n",
    "        for i in range(n):\n",
    "            v += (catalan_mem(i)) * (catalan_mem(n-i-1))\n",
    "        memo[n] = v\n",
    "    \n",
    "    return memo[n]"
   ]
  },
  {
   "cell_type": "code",
   "execution_count": 132,
   "metadata": {},
   "outputs": [
    {
     "data": {
      "text/plain": [
       "16796"
      ]
     },
     "execution_count": 132,
     "metadata": {},
     "output_type": "execute_result"
    }
   ],
   "source": [
    "catalan_mem(10)"
   ]
  },
  {
   "cell_type": "code",
   "execution_count": 133,
   "metadata": {},
   "outputs": [
    {
     "data": {
      "image/png": "[encoded data removed]",
      "text/plain": [
       "<Figure size 432x288 with 1 Axes>"
      ]
     },
     "metadata": {
      "needs_background": "light"
     },
     "output_type": "display_data"
    }
   ],
   "source": [
    "compareTwoFunctions(catalan,catalan_mem,12)"
   ]
  },
  {
   "cell_type": "markdown",
   "metadata": {},
   "source": [
    "**Problem 2 (5 points): use a table to compute Catalan numbers bottom-up.**"
   ]
  },
  {
   "cell_type": "code",
   "execution_count": 134,
   "metadata": {},
   "outputs": [],
   "source": [
    "def catalan_table(n):\n",
    "    table = [1,1]\n",
    "    if n <= 1:\n",
    "        return 1\n",
    "    \n",
    "    for i in range(2, n+1):\n",
    "        v = 0 \n",
    "        for j in range(i):\n",
    "            v += table[j] * table[i-j-1]\n",
    "        table.append(v)\n",
    "        \n",
    "    return table[n]"
   ]
  },
  {
   "cell_type": "code",
   "execution_count": 139,
   "metadata": {},
   "outputs": [
    {
     "name": "stdout",
     "output_type": "stream",
     "text": [
      "5  =  42\n",
      "6  =  132\n",
      "7  =  429\n",
      "8  =  1430\n",
      "9  =  4862\n",
      "10  =  16796\n"
     ]
    }
   ],
   "source": [
    "for i in range(5, 11):\n",
    "    print(i, \" = \", catalan_table(i))"
   ]
  },
  {
   "cell_type": "code",
   "execution_count": 140,
   "metadata": {},
   "outputs": [
    {
     "data": {
      "image/png": "[encoded data removed]",
      "text/plain": [
       "<Figure size 432x288 with 1 Axes>"
      ]
     },
     "metadata": {
      "needs_background": "light"
     },
     "output_type": "display_data"
    }
   ],
   "source": [
    "compareTwoFunctions(catalan_mem,catalan_table,50)"
   ]
  },
  {
   "cell_type": "markdown",
   "metadata": {},
   "source": [
    "# Part 2: 30 points"
   ]
  },
  {
   "cell_type": "markdown",
   "metadata": {},
   "source": [
    "In this problem, your goal is to count how many combinations of S different coins can sump to to some value n.\n",
    "The order of coins doesn’t matter.\n",
    "\n",
    "*Example 1:* for n = 4 and S = {1,2,3}, there are four solutions: {1,1,1,1},{1,1,2},{2,2},{1,3} and the output should be 4. \n",
    "\n",
    "*Example 2:* for n = 10 and S = {2, 5, 3, 6}, there are five solutions: {2,2,2,2,2}, {2,2,3,3}, {2,2,6}, {2,3,5} and {5,5} and the output should be 5."
   ]
  },
  {
   "cell_type": "markdown",
   "metadata": {},
   "source": [
    "**Problem 3 (15 points): implement a recursive function that counts the number of combinations. The function should take two arguments: a list of integers S and an integer n. The function should return an integer.**"
   ]
  },
  {
   "cell_type": "code",
   "execution_count": 121,
   "metadata": {},
   "outputs": [],
   "source": [
    "def count(S, n):\n",
    "    if n == 0:\n",
    "        return 1\n",
    "    \n",
    "    if n < 0:\n",
    "        return 0 \n",
    "    \n",
    "    cnt = 0 \n",
    "    for i in range(len(S)):\n",
    "        cnt += count(S[:i+1], n - S[i])\n",
    "        \n",
    "    return cnt"
   ]
  },
  {
   "cell_type": "markdown",
   "metadata": {},
   "source": [
    "**Problem 4 (15 points): re-implement the function above so that it does not use recursion and instead builds a table of solutions bottom-up.**"
   ]
  },
  {
   "cell_type": "code",
   "execution_count": 122,
   "metadata": {},
   "outputs": [],
   "source": [
    "def countDyn(S,n):\n",
    "    table = [0] * (n + 1)\n",
    "    table[0] = 1\n",
    "    \n",
    "    for i in range(len(S)):\n",
    "        for j in range(n + 1):\n",
    "            if S[i] <= j:\n",
    "                table[j] = table[j] + table[(j - S[i])]\n",
    "                \n",
    "    return table[n]"
   ]
  },
  {
   "cell_type": "code",
   "execution_count": 123,
   "metadata": {},
   "outputs": [],
   "source": [
    "S = [3, 5, 6, 8, 11, 16]\n",
    "n = 50"
   ]
  },
  {
   "cell_type": "code",
   "execution_count": 124,
   "metadata": {},
   "outputs": [
    {
     "data": {
      "text/plain": [
       "138"
      ]
     },
     "execution_count": 124,
     "metadata": {},
     "output_type": "execute_result"
    }
   ],
   "source": [
    "count(S, n)"
   ]
  },
  {
   "cell_type": "code",
   "execution_count": 125,
   "metadata": {},
   "outputs": [
    {
     "data": {
      "text/plain": [
       "138"
      ]
     },
     "execution_count": 125,
     "metadata": {},
     "output_type": "execute_result"
    }
   ],
   "source": [
    "countDyn(S, n)"
   ]
  },
  {
   "cell_type": "markdown",
   "metadata": {},
   "source": [
    "# Part 3 (40 points)"
   ]
  },
  {
   "cell_type": "markdown",
   "metadata": {},
   "source": [
    "*Definition 1:* A subsequence is a sequence that can be derived from another sequence by deleting some or no elements without changing the order of the remaining elements. For example, the sequence $\\langle A,B,D\\rangle$  is a subsequence of $\\langle A,B,C,D,E,F\\rangle$  obtained after removal of elements $C$, $E$, and $F$."
   ]
  },
  {
   "cell_type": "markdown",
   "metadata": {},
   "source": [
    "*Definition 2:* A string is a sequence of characters. "
   ]
  },
  {
   "cell_type": "markdown",
   "metadata": {},
   "source": [
    "*Definition 3:* A palindrome is a string which reads the same backward as forward, such as madam or racecar."
   ]
  },
  {
   "cell_type": "markdown",
   "metadata": {},
   "source": [
    "*Definition 4:* **Longest Palindrome Substring** problem.\n",
    "\n",
    "   **Input:** A string *str*.\n",
    "\n",
    "   **Output:** A substring of *str* that is a palindrome."
   ]
  },
  {
   "cell_type": "markdown",
   "metadata": {},
   "source": [
    "In this problem, your goal is to use dynamic programming to design and implement a solution to the Longest Palindrom Substring problem. For reference, I'm happy to provide this horribly naive solution that enumerates all the possible substrings.  "
   ]
  },
  {
   "cell_type": "code",
   "execution_count": 54,
   "metadata": {},
   "outputs": [],
   "source": [
    "def horribleSolution(str):\n",
    "    assert(len(str) > 1)\n",
    "    \n",
    "    # We will find all the palindromes and store them in this list\n",
    "    palindromes = []\n",
    "    \n",
    "    # This function is used to tell if a string is a palindrome or not\n",
    "    def is_palindrome(kept):\n",
    "        if (len(kept) == 1) or (len(kept) == 0):\n",
    "            return True\n",
    "        elif len(kept) == 2:\n",
    "            return kept[0] == kept[1]\n",
    "        else:\n",
    "            return (kept[0] == kept[-1]) and (is_palindrome(kept[1:-1]))\n",
    "    \n",
    "    # This function enumerates all the possible substrings and checks if they are palindromes\n",
    "    def bruteForce(kept,leftover):\n",
    "        if len(leftover) == 0:\n",
    "            if is_palindrome(kept):\n",
    "                palindromes.append(kept)\n",
    "                \n",
    "        else:\n",
    "            bruteForce(kept,leftover[1:])\n",
    "            bruteForce(kept + [leftover[0]],leftover[1:])        \n",
    "    \n",
    "    bruteForce([],str)\n",
    "    \n",
    "    # Find one of the longest palindrome\n",
    "    lps = reduce(lambda x, y: x if len(x) > len(y) else y, palindromes)\n",
    "    \n",
    "    return ''.join(lps)   "
   ]
  },
  {
   "cell_type": "code",
   "execution_count": 116,
   "metadata": {},
   "outputs": [
    {
     "data": {
      "text/plain": [
       "'racecar'"
      ]
     },
     "execution_count": 116,
     "metadata": {},
     "output_type": "execute_result"
    }
   ],
   "source": [
    "horribleSolution(\"racecarisfast\")"
   ]
  },
  {
   "cell_type": "markdown",
   "metadata": {},
   "source": [
    "**Problem 5 (40 points): Use dynamic programming to solve the Longest Palindrome SubString problem in $O(n^2)$ where n is the length of the input string. I strongly recommend that you do so by following the method seen in class. First, design and implement a function that counts the solutions recursively. Second, design and implement a function that counts the solutions using a table and in $O(n^2)$. Third, design and implement a function that constructs the solution.**"
   ]
  },
  {
   "cell_type": "code",
   "execution_count": 118,
   "metadata": {},
   "outputs": [],
   "source": [
    "def lps(s):\n",
    "    \"\"\"\n",
    "    Input : s (string to check the subsequence palindrome)\n",
    "    Output : ans (subsequence palindrome of the string)\n",
    "    \n",
    "    def lps(s) : delivers string and table - mem, to the helper function \n",
    "    \n",
    "    def helper(s, 0, N-1, mem)\n",
    "        - recursive function to track the palindrome \n",
    "        - Base Cases\n",
    "            - Base Case #1 : if i == j\n",
    "                - length of palindrome is 1\n",
    "            - Base Case #2 : if i != j\n",
    "                - Base Case #2.1 : if i == j + 1 & s[i] != s[j]\n",
    "                    - length of palindrome is 0 \n",
    "                - Base Case #2.2 : if i == j + 1 & s[i] = s[j]\n",
    "                    - length of palindrome is 2 \n",
    "                - Base Case #2.3 : if i != j & s[i] != s[j]\n",
    "                    - length of palindrome is max(lp(s, i+ 1, j), lp(s, i, j-1))\n",
    "            \n",
    "    \"\"\"\n",
    "    \n",
    "    N = len(s)\n",
    "    if N == 0:\n",
    "        return \"\"\n",
    "    \n",
    "    # implement a table in driver function \n",
    "    mem = [[None for j in range(N)] for i in range(N)] # make 2-d array : table \n",
    "    helper(s,0,N-1,mem)\n",
    "    \n",
    "    return stringMaker(mem, s, N)\n",
    "\n",
    "def stringMaker(mem, s, N):\n",
    "    ans = \"\"\n",
    "    \n",
    "    for i in mem[0][N-1]:\n",
    "        ans += s[i]\n",
    "    \n",
    "    return ans \n",
    "        \n",
    "def helper(s,i,j,mem):\n",
    "    # recursive solution to count the solutions\n",
    "    if j < i:\n",
    "        return []\n",
    "    elif mem[i][j]:\n",
    "        return mem[i][j]\n",
    "    elif i == j: # base case 1\n",
    "        mem[i][j] = [i]\n",
    "        return mem[i][j]\n",
    "    else: \n",
    "        mem[i][j] = [] # check if the string has passed through the table \n",
    "        if s[i] == s[j]:\n",
    "            mem[i][j] = [i] + helper(s,i+1,j-1,mem) + [j]\n",
    "        left = helper(s,i+1,j,mem) # base case 2.3\n",
    "        right = helper(s,i,j-1,mem) # base case 2.3\n",
    "        if len(left) > len(mem[i][j]):\n",
    "            mem[i][j] = left\n",
    "        if len(right) > len(mem[i][j]):\n",
    "            mem[i][j] = right\n",
    "        return mem[i][j]"
   ]
  },
  {
   "cell_type": "code",
   "execution_count": 119,
   "metadata": {},
   "outputs": [
    {
     "data": {
      "text/plain": [
       "'racecar'"
      ]
     },
     "execution_count": 119,
     "metadata": {},
     "output_type": "execute_result"
    }
   ],
   "source": [
    "lps('racecarisfast')"
   ]
  },
  {
   "cell_type": "code",
   "execution_count": null,
   "metadata": {},
   "outputs": [],
   "source": []
  },
  {
   "cell_type": "code",
   "execution_count": null,
   "metadata": {},
   "outputs": [],
   "source": []
  }
 ],
 "metadata": {
  "kernelspec": {
   "display_name": "Python 3",
   "language": "python",
   "name": "python3"
  },
  "language_info": {
   "codemirror_mode": {
    "name": "ipython",
    "version": 3
   },
   "file_extension": ".py",
   "mimetype": "text/x-python",
   "name": "python",
   "nbconvert_exporter": "python",
   "pygments_lexer": "ipython3",
   "version": "3.7.4"
  }
 },
 "nbformat": 4,
 "nbformat_minor": 4
}
