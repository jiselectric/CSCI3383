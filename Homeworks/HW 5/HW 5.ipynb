{
 "cells": [
  {
   "cell_type": "markdown",
   "metadata": {},
   "source": [
    "# Homework 5 (80 points)"
   ]
  },
  {
   "cell_type": "markdown",
   "metadata": {},
   "source": [
    "In this homework, you will learn about:\n",
    "\n",
    "* Design and implementation of a Graph library\n",
    "* Representation of graphs as adjacency lists\n",
    "* Breadth-First Search\n",
    "* Depth-First Search\n",
    "* Topological Sort\n",
    "\n",
    "**Note that I made the deliberate choice of giving you very little instructions about how to design your graph library API. This is on purpose: one of the most important skill for a software engineer is API design. However, note that I will discuss all of this in class, so if you are confused about what you have to do, make sure to tune in. Also note that if you are thoughtful about your design, you will have to write much less code.**"
   ]
  },
  {
   "cell_type": "code",
   "execution_count": 87,
   "metadata": {},
   "outputs": [],
   "source": [
    "from math import inf"
   ]
  },
  {
   "cell_type": "markdown",
   "metadata": {},
   "source": [
    "You will use the following class to represent vertices in your graph. A vertex has an identifier, and it can also have a set of attributes. An identifier is almost like an attribute, except that it needs to be provided to create a vertex."
   ]
  },
  {
   "cell_type": "code",
   "execution_count": 119,
   "metadata": {},
   "outputs": [],
   "source": [
    "class Vertex:\n",
    "    \n",
    "    def __init__(self,id):\n",
    "        self.attributes = {}\n",
    "        self.attributes['id'] = id\n",
    "        \n",
    "    def __str__(self):\n",
    "        return str(self.attributes)\n",
    "        \n",
    "    def new_copy(self):\n",
    "        return Vertex(self.attributes['id'])\n",
    "        \n",
    "    def set(self,key,value):\n",
    "        self.attributes[key] = value\n",
    "        \n",
    "    def get(self,key):\n",
    "        return self.attributes[key]"
   ]
  },
  {
   "cell_type": "code",
   "execution_count": 120,
   "metadata": {},
   "outputs": [],
   "source": [
    "class Graph:\n",
    "    def __init__(self):\n",
    "        self.vertices = []\n",
    "        self.id_to_v = {}\n",
    "        self.v_to_v = {}\n",
    "        \n",
    "    def add_vertex(self, v):\n",
    "        self.vertices.append(v)\n",
    "        self.id_to_v[v.get('id')] = v\n",
    "        \n",
    "    def add_edge(self, v1, v2):\n",
    "        pass\n",
    "    \n",
    "    def BFS(self, v):\n",
    "        Q = [v.get('id')]\n",
    "        result = []\n",
    "        while len(Q) > 0:\n",
    "            target = Q.pop(0)\n",
    "            result.append(target)\n",
    "            for adj in self.v_to_v[target]:\n",
    "                if adj not in result and adj not in Q:\n",
    "                    Q.append(adj)\n",
    "        return result\n",
    "    \n",
    "    def DFS(self):\n",
    "        self.stack = []\n",
    "        self.isAcyclic = True\n",
    "        for v in self.vertices:\n",
    "            v.set('color', 0)\n",
    "        self.time = 0\n",
    "        for v in self.vertices:\n",
    "            if v.get('color') == 0:\n",
    "                self.DFS_visit(v)\n",
    "    \n",
    "    def DFS_visit(self, v):\n",
    "        v.set('color', 1)\n",
    "        self.time += 1\n",
    "        v.set('d', self.time)\n",
    "        adjs = self.v_to_v.get(v.get('id'))\n",
    "        if adjs:\n",
    "            for u_id in adjs:\n",
    "                u = self.id_to_v[u_id]\n",
    "                if u.get('color') == 0:\n",
    "                    self.DFS_visit(u)\n",
    "                elif u.get('color') == 1:\n",
    "                    self.isAcyclic = False\n",
    "        v.set('color', 2)\n",
    "        self.time += 1\n",
    "        v.set('f', self.time)\n",
    "        self.stack.append(v.get('id'))"
   ]
  },
  {
   "cell_type": "markdown",
   "metadata": {},
   "source": [
    "Your library will provide undirected graphs. Note that you may not change the name of the class, but you can change its inheritance, and you will need to add methods. "
   ]
  },
  {
   "cell_type": "code",
   "execution_count": 122,
   "metadata": {},
   "outputs": [],
   "source": [
    "class UndirectedGraph(Graph):\n",
    "    def add_edge(self, v1, v2):\n",
    "        v1_id = v1.get('id')\n",
    "        v2_id = v2.get('id')\n",
    "        if v1_id not in self.v_to_v:\n",
    "            self.v_to_v[v1_id] = set()\n",
    "        self.v_to_v[v1_id].add(v2_id)\n",
    "        \n",
    "        if v2_id not in self.v_to_v:\n",
    "            self.v_to_v[v2_id] = set()\n",
    "        self.v_to_v[v2_id].add(v1_id)"
   ]
  },
  {
   "cell_type": "markdown",
   "metadata": {},
   "source": [
    "Likewise, your library will provide directed graphs."
   ]
  },
  {
   "cell_type": "code",
   "execution_count": 123,
   "metadata": {},
   "outputs": [],
   "source": [
    "class DirectedGraph(Graph):\n",
    "    def add_edge(self, v1, v2):\n",
    "        v1_id = v1.get('id')\n",
    "        v2_id = v2.get('id')\n",
    "        if v1_id not in self.v_to_v:\n",
    "            self.v_to_v[v1_id] = set()\n",
    "        self.v_to_v[v1_id].add(v2_id)\n",
    "    \n",
    "    # acyclic graph : directed graph with no directed cycles\n",
    "    def acyclic(self):\n",
    "        self.DFS()\n",
    "        return self.isAcyclic\n",
    "    \n",
    "    def topological_sort(self):\n",
    "        self.DFS()\n",
    "        return self.stack[::-1]"
   ]
  },
  {
   "cell_type": "markdown",
   "metadata": {},
   "source": [
    "Both kinds of graphs should have an API that allows us to create new graphs. First, there should be a method 'add_vertex' that takes a vertex as an input and adds it to the graph. Second, there should be a method 'add_edge' that takes two vertices and adds an edge between them in the graph. For example, your implementation should work with the following codes."
   ]
  },
  {
   "cell_type": "code",
   "execution_count": 124,
   "metadata": {},
   "outputs": [],
   "source": [
    "def create_graph_1():\n",
    "    G = UndirectedGraph()\n",
    "\n",
    "    for i in ['r','s','t','u','v','w','x','y']:\n",
    "        G.add_vertex(Vertex(i))\n",
    "    \n",
    "    for (v1,v2) in [('v','r'),('r','s'),('s','w'),\n",
    "              ('w','t'),('w','x'),('t','x'),\n",
    "              ('t','u'),('x','u'),('x','y'),('u','y')]:\n",
    "        G.add_edge(G.id_to_v[v1],G.id_to_v[v2])\n",
    "    \n",
    "    return G"
   ]
  },
  {
   "cell_type": "code",
   "execution_count": 125,
   "metadata": {},
   "outputs": [],
   "source": [
    "G1 = create_graph_1()"
   ]
  },
  {
   "cell_type": "code",
   "execution_count": 126,
   "metadata": {},
   "outputs": [],
   "source": [
    "def create_graph_2():\n",
    "    G = DirectedGraph()\n",
    "    \n",
    "    for i in ['u','v','w','x','y','z']:\n",
    "        G.add_vertex(Vertex(i))\n",
    "        \n",
    "    for (v1,v2) in [('u','x'),('u','v'),('x','v'),('v','y'),\n",
    "                    ('y','x'),('w','y'),('w','z'),('z','z')]:\n",
    "        \n",
    "        G.add_edge(G.id_to_v[v1],G.id_to_v[v2])\n",
    "        \n",
    "    return G"
   ]
  },
  {
   "cell_type": "code",
   "execution_count": 127,
   "metadata": {},
   "outputs": [],
   "source": [
    "G2 = create_graph_2()"
   ]
  },
  {
   "cell_type": "code",
   "execution_count": 128,
   "metadata": {},
   "outputs": [],
   "source": [
    "def create_graph_3():\n",
    "    G = DirectedGraph()\n",
    "    \n",
    "    for i in ['u','v','w','x','y','z']:\n",
    "        G.add_vertex(Vertex(i))\n",
    "        \n",
    "    for (v1,v2) in [('u','x'),('u','v'),('v','y'),\n",
    "                    ('y','x'),('w','y'),('w','z')]:\n",
    "        \n",
    "        G.add_edge(G.id_to_v[v1],G.id_to_v[v2])\n",
    "        \n",
    "    return G    "
   ]
  },
  {
   "cell_type": "code",
   "execution_count": 129,
   "metadata": {},
   "outputs": [],
   "source": [
    "G3 = create_graph_3()"
   ]
  },
  {
   "cell_type": "markdown",
   "metadata": {},
   "source": [
    "Please note two important things. First, the methods add_vertex and add_edge do not return a new graph, instead they update the graph in-place. Second, in the graph implementation, you need to work with vertex objects, and not their identifier. It means that to interface with the graph, the graph needs to provide a dictionnary 'id_to_v' that keeps track of which identifier corresponds to which vertex."
   ]
  },
  {
   "cell_type": "markdown",
   "metadata": {},
   "source": [
    "**Problem 1: (20 points)** Implement Breads-First Search (BFS) for both kinds of graphs. The BFS method takes a vertex as an argument and should return a list of identifiers. Note that there can be more than one right answer. *The following call should work.*"
   ]
  },
  {
   "cell_type": "code",
   "execution_count": 130,
   "metadata": {},
   "outputs": [
    {
     "data": {
      "text/plain": [
       "['s', 'w', 'r', 'x', 't', 'v', 'u', 'y']"
      ]
     },
     "execution_count": 130,
     "metadata": {},
     "output_type": "execute_result"
    }
   ],
   "source": [
    "G1.BFS(G1.id_to_v['s'])\n",
    "#answer : ['s', 'r', 'w', 'v', 't', 'x', 'u', 'y']"
   ]
  },
  {
   "cell_type": "markdown",
   "metadata": {},
   "source": [
    "**Problem 2: (20 points)** Implement Depth-First Search (BFS) for both kinds of graphs. The DFS method takes no arguments and does not return anything. Instead, the DFS method should timestamp the vertices. *The following call should work.*"
   ]
  },
  {
   "cell_type": "code",
   "execution_count": 131,
   "metadata": {},
   "outputs": [],
   "source": [
    "G2.DFS()"
   ]
  },
  {
   "cell_type": "code",
   "execution_count": 132,
   "metadata": {},
   "outputs": [
    {
     "name": "stdout",
     "output_type": "stream",
     "text": [
      "{'id': 'u', 'color': 2, 'd': 1, 'f': 8}\n",
      "{'id': 'v', 'color': 2, 'd': 3, 'f': 6}\n",
      "{'id': 'w', 'color': 2, 'd': 9, 'f': 12}\n",
      "{'id': 'x', 'color': 2, 'd': 2, 'f': 7}\n",
      "{'id': 'y', 'color': 2, 'd': 4, 'f': 5}\n",
      "{'id': 'z', 'color': 2, 'd': 10, 'f': 11}\n"
     ]
    }
   ],
   "source": [
    "for v in G2.vertices:\n",
    "    print(v)"
   ]
  },
  {
   "cell_type": "markdown",
   "metadata": {},
   "source": [
    "**Problem 3: (20 points)** Implement a method to test if a directed graph is acyclic. The methods takes no argument but returns a boolean. *The following call should work.*"
   ]
  },
  {
   "cell_type": "code",
   "execution_count": 133,
   "metadata": {},
   "outputs": [
    {
     "data": {
      "text/plain": [
       "True"
      ]
     },
     "execution_count": 133,
     "metadata": {},
     "output_type": "execute_result"
    }
   ],
   "source": [
    "G3.acyclic()\n",
    "# answer : True "
   ]
  },
  {
   "cell_type": "markdown",
   "metadata": {},
   "source": [
    "**Problem 4: (20 points)** Implement a method that computes a topological sort for a directed graph. The method takes no arguments and returns a list of identifiers. *The following call should work.*"
   ]
  },
  {
   "cell_type": "code",
   "execution_count": 134,
   "metadata": {},
   "outputs": [
    {
     "data": {
      "text/plain": [
       "['w', 'z', 'u', 'v', 'y', 'x']"
      ]
     },
     "execution_count": 134,
     "metadata": {},
     "output_type": "execute_result"
    }
   ],
   "source": [
    "G3.topological_sort()\n",
    "#answer : ['w', 'z', 'u', 'v', 'y', 'x']"
   ]
  },
  {
   "cell_type": "code",
   "execution_count": null,
   "metadata": {},
   "outputs": [],
   "source": []
  }
 ],
 "metadata": {
  "kernelspec": {
   "display_name": "Python 3",
   "language": "python",
   "name": "python3"
  },
  "language_info": {
   "codemirror_mode": {
    "name": "ipython",
    "version": 3
   },
   "file_extension": ".py",
   "mimetype": "text/x-python",
   "name": "python",
   "nbconvert_exporter": "python",
   "pygments_lexer": "ipython3",
   "version": "3.7.4"
  }
 },
 "nbformat": 4,
 "nbformat_minor": 4
}
